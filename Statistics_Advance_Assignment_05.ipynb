{
 "cells": [
  {
   "cell_type": "markdown",
   "metadata": {},
   "source": [
    "Q.No-01    Calculate the 95% confidence interval for a sample of data with a mean of 50 and a standard deviation of 5 using Python. Interpret the results."
   ]
  },
  {
   "cell_type": "markdown",
   "metadata": {},
   "source": [
    "Ans :-"
   ]
  },
  {
   "cell_type": "markdown",
   "metadata": {},
   "source": [
    "To calculate the 95% confidence interval for a sample of data with a known mean and standard deviation using Python, you can use the `scipy.stats` module. Specifically, you'll want to use the `norm` function, which represents the normal distribution (Z-distribution) since you have a large enough sample size."
   ]
  },
  {
   "cell_type": "code",
   "execution_count": 1,
   "metadata": {},
   "outputs": [
    {
     "name": "stdout",
     "output_type": "stream",
     "text": [
      "Given Data :-\n",
      "\tSample Mean = 50\n",
      "\tStandard Deviation of Sample = 5\n",
      "\tConfidence Level = 0.95\n",
      "\n",
      "Input :-\n",
      "\tSample Size = 30\n",
      "\n",
      "Calculation :-\n",
      "\tZ-score = 1.96\n",
      "\tMargin of Error = 1.79\n",
      "\tConfidence Interval Lower Bound = 48.21\n",
      "\tConfidence Interval Upper Bound = 51.79\n",
      "\n",
      "Result :-\n",
      "\tConfidence Interval: (48.21, 51.79)\n"
     ]
    }
   ],
   "source": [
    "import scipy.stats as stats\n",
    "\n",
    "# Given data\n",
    "print(\"Given Data :-\")\n",
    "\n",
    "sample_mean = 50\n",
    "print(f\"\\tSample Mean = {sample_mean}\")\n",
    "\n",
    "sample_stddev = 5\n",
    "print(f\"\\tStandard Deviation of Sample = {sample_stddev}\")\n",
    "\n",
    "confidence_level = 0.95\n",
    "print(f\"\\tConfidence Level = {confidence_level}\")\n",
    "\n",
    "print(\"\\nInput :-\")\n",
    "sample_size = int(input(\"Enter the Sample Size\"))\n",
    "print(f\"\\tSample Size = {sample_size}\")\n",
    "\n",
    "print(\"\\nCalculation :-\")\n",
    "# Calculate the critical value (Z-score) for the confidence level\n",
    "z_critical = stats.norm.ppf(1 - (1 - confidence_level) / 2)\n",
    "print(f\"\\tZ-score = {z_critical:.2f}\")\n",
    "\n",
    "# Calculate the margin of error\n",
    "margin_of_error = z_critical * (sample_stddev / sample_size**0.5)\n",
    "print(f\"\\tMargin of Error = {margin_of_error:.2f}\")\n",
    "\n",
    "# Calculate the confidence interval\n",
    "confidence_interval_lower = sample_mean - margin_of_error\n",
    "print(f\"\\tConfidence Interval Lower Bound = {confidence_interval_lower:.2f}\")\n",
    "\n",
    "confidence_interval_upper = sample_mean + margin_of_error\n",
    "print(f\"\\tConfidence Interval Upper Bound = {confidence_interval_upper:.2f}\")\n",
    "\n",
    "print(\"\\nResult :-\")\n",
    "print(f\"\\tConfidence Interval: ({confidence_interval_lower:.2f}, {confidence_interval_upper:.2f})\")"
   ]
  },
  {
   "cell_type": "markdown",
   "metadata": {},
   "source": [
    "**`Interpretation` of the results :-**\n",
    "\n",
    "The 95% confidence interval is a range of values around the sample mean (50 in this case) within which we can be 95% confident that the true population mean lies. In other words, if you were to take many samples from the same population and calculate their 95% confidence intervals, about 95% of those intervals would contain the true population mean.\n",
    "\n",
    "In this specific case, if you were to repeat the sampling process and calculate the 95% confidence interval, you would expect the true population mean to fall within the range calculated by `confidence_interval_lower` and `confidence_interval_upper`, with a confidence level of 95%."
   ]
  },
  {
   "cell_type": "markdown",
   "metadata": {},
   "source": [
    "--------------------------------------------------------------------------------------------------------------------"
   ]
  },
  {
   "cell_type": "markdown",
   "metadata": {},
   "source": [
    "Q.No-02    Conduct a chi-square goodness of fit test to determine if the distribution of colors of M&Ms in a bag\n",
    "matches the expected distribution of 20% blue, 20% orange, 20% green, 10% yellow, 10% red, and 20%\n",
    "brown. Use Python to perform the test with a significance level of 0.05."
   ]
  },
  {
   "cell_type": "markdown",
   "metadata": {},
   "source": [
    "Ans :-"
   ]
  },
  {
   "cell_type": "code",
   "execution_count": 2,
   "metadata": {},
   "outputs": [
    {
     "name": "stdout",
     "output_type": "stream",
     "text": [
      "Given :-\n",
      "\tAssumed Observed Distribution = [12, 15, 18, 5, 6, 24]\n",
      "\tExpected Distribution = [0.2, 0.2, 0.2, 0.1, 0.1, 0.2]\n",
      "\tSignificance Level (Alpha) : 0.05 or 5.0%\n",
      "\n",
      "Observed Frequencies :-\n"
     ]
    },
    {
     "data": {
      "text/plain": [
       "array([12, 15, 18,  5,  6, 24])"
      ]
     },
     "metadata": {},
     "output_type": "display_data"
    },
    {
     "name": "stdout",
     "output_type": "stream",
     "text": [
      "Expected Frequencies :-\n"
     ]
    },
    {
     "data": {
      "text/plain": [
       "array([16., 16., 16.,  8.,  8., 16.])"
      ]
     },
     "metadata": {},
     "output_type": "display_data"
    },
    {
     "name": "stdout",
     "output_type": "stream",
     "text": [
      "Calculation :-\n",
      "\tChi-square statistic: 6.94\n",
      "\tP-value: 0.23\n",
      "\n",
      "Conclusion :-\n",
      "\tFail to reject the null hypothesis. The distribution of colors matches the expected distribution.\n"
     ]
    }
   ],
   "source": [
    "import numpy as np\n",
    "from scipy.stats import chisquare\n",
    "\n",
    "print(\"Given :-\")\n",
    "\n",
    "# Let's Assuming the Observed distribution array\n",
    "Observed_Distribution = [12, 15, 18, 5, 6, 24] # Sample Value\n",
    "print(f\"\\tAssumed Observed Distribution = {Observed_Distribution}\") \n",
    "\n",
    "Expected_Distribution = [0.20, 0.20, 0.20, 0.10, 0.10, 0.20]   # Percentages of Colors\n",
    "print(f\"\\tExpected Distribution = {Expected_Distribution}\")\n",
    "\n",
    "# Significance level\n",
    "alpha = 0.05\n",
    "print(f\"\\tSignificance Level (Alpha) : {alpha} or {alpha*100}%\")\n",
    "\n",
    "\n",
    "# Observed frequencies of colors\n",
    "observed_frequencies = np.array(Observed_Distribution)\n",
    "print(\"\\nObserved Frequencies :-\")\n",
    "display(observed_frequencies)\n",
    "\n",
    "# Expected frequencies based on the expected distribution\n",
    "expected_frequencies = np.array(Expected_Distribution) * sum(observed_frequencies)\n",
    "print(f\"Expected Frequencies :-\")\n",
    "display(expected_frequencies)\n",
    "\n",
    "print(\"Calculation :-\")\n",
    "# Perform the chi-square goodness of fit test\n",
    "chi2_stat, p_value = chisquare(observed_frequencies, f_exp=expected_frequencies)\n",
    "\n",
    "print(f\"\\tChi-square statistic: {chi2_stat:.2f}\")\n",
    "print(f\"\\tP-value: {p_value:.2f}\")\n",
    "\n",
    "\n",
    "print(\"\\nConclusion :-\")\n",
    "# Compare p-value to significance level\n",
    "if p_value < alpha:\n",
    "    print(\"\\tReject the null hypothesis. The distribution of colors is not as expected.\")\n",
    "else:\n",
    "    print(\"\\tFail to reject the null hypothesis. The distribution of colors matches the expected distribution.\")"
   ]
  },
  {
   "cell_type": "markdown",
   "metadata": {},
   "source": [
    "--------------------------------------------------------------------------------------------------------------------"
   ]
  },
  {
   "cell_type": "markdown",
   "metadata": {},
   "source": [
    "Q.No-03\tUse Python to calculate the chi-square statistic and p-value for a contingency table with the following data:\n",
    "```\n",
    "\t    Group A  Group B\n",
    "Outcome 1     20       15\n",
    "\n",
    "Outcome 2     10       25\n",
    "\n",
    "Outcome 3     15       20\n",
    "```\n",
    "Interpret the results of the test."
   ]
  },
  {
   "cell_type": "markdown",
   "metadata": {},
   "source": [
    "Ans :-"
   ]
  },
  {
   "cell_type": "code",
   "execution_count": 3,
   "metadata": {},
   "outputs": [
    {
     "name": "stdout",
     "output_type": "stream",
     "text": [
      "Given DataFrame Table (Pandas DataFrame) :-\n"
     ]
    },
    {
     "data": {
      "text/html": [
       "<div>\n",
       "<style scoped>\n",
       "    .dataframe tbody tr th:only-of-type {\n",
       "        vertical-align: middle;\n",
       "    }\n",
       "\n",
       "    .dataframe tbody tr th {\n",
       "        vertical-align: top;\n",
       "    }\n",
       "\n",
       "    .dataframe thead th {\n",
       "        text-align: right;\n",
       "    }\n",
       "</style>\n",
       "<table border=\"1\" class=\"dataframe\">\n",
       "  <thead>\n",
       "    <tr style=\"text-align: right;\">\n",
       "      <th></th>\n",
       "      <th>Group A</th>\n",
       "      <th>Group B</th>\n",
       "    </tr>\n",
       "  </thead>\n",
       "  <tbody>\n",
       "    <tr>\n",
       "      <th>Outcome 1</th>\n",
       "      <td>20</td>\n",
       "      <td>15</td>\n",
       "    </tr>\n",
       "    <tr>\n",
       "      <th>Outcome 2</th>\n",
       "      <td>10</td>\n",
       "      <td>25</td>\n",
       "    </tr>\n",
       "    <tr>\n",
       "      <th>Outcome 3</th>\n",
       "      <td>15</td>\n",
       "      <td>20</td>\n",
       "    </tr>\n",
       "  </tbody>\n",
       "</table>\n",
       "</div>"
      ],
      "text/plain": [
       "           Group A  Group B\n",
       "Outcome 1       20       15\n",
       "Outcome 2       10       25\n",
       "Outcome 3       15       20"
      ]
     },
     "metadata": {},
     "output_type": "display_data"
    },
    {
     "name": "stdout",
     "output_type": "stream",
     "text": [
      "Given DataFrame Table (Numpy Array) :-\n"
     ]
    },
    {
     "data": {
      "text/plain": [
       "array([[20, 15],\n",
       "       [10, 25],\n",
       "       [15, 20]])"
      ]
     },
     "metadata": {},
     "output_type": "display_data"
    },
    {
     "name": "stdout",
     "output_type": "stream",
     "text": [
      "Calculation :-\n",
      "\tChi-square statistic: 5.833333333333334\n",
      "\tP-value: 0.05411376622282158\n",
      "\tDegrees of freedom: 2\n",
      "\n",
      "Expected frequencies :-\n"
     ]
    },
    {
     "data": {
      "text/plain": [
       "array([[15., 20.],\n",
       "       [15., 20.],\n",
       "       [15., 20.]])"
      ]
     },
     "metadata": {},
     "output_type": "display_data"
    }
   ],
   "source": [
    "import pandas as pd\n",
    "import numpy as np\n",
    "from scipy.stats import chi2_contingency\n",
    "\n",
    "print(\"Given DataFrame Table (Pandas DataFrame) :-\")\n",
    "# Create a pandas DataFrame\n",
    "data_Q3 = {'Group A': [20, 10, 15],\n",
    "        'Group B': [15, 25, 20]}\n",
    "\n",
    "df_Q3 = pd.DataFrame(data_Q3, index=['Outcome 1', 'Outcome 2', 'Outcome 3'])\n",
    "display(df_Q3)\n",
    "\n",
    "print(\"Given DataFrame Table (Numpy Array) :-\")\n",
    "# Create the contingency table\n",
    "contingency_table_Q3 = np.array([[20, 15],\n",
    "                               [10, 25],\n",
    "                               [15, 20]])\n",
    "\n",
    "display(contingency_table_Q3)\n",
    "\n",
    "print(\"Calculation :-\")\n",
    "# Calculate the chi-square statistic, p-value, degrees of freedom, and expected frequencies\n",
    "chi2, p, dof, expected = chi2_contingency(contingency_table_Q3)\n",
    "\n",
    "print(f\"\\tChi-square statistic: {chi2}\")\n",
    "print(f\"\\tP-value: {p}\")\n",
    "print(f\"\\tDegrees of freedom: {dof}\")\n",
    "\n",
    "print(\"\\nExpected frequencies :-\")\n",
    "display(expected)"
   ]
  },
  {
   "cell_type": "markdown",
   "metadata": {},
   "source": [
    "**`Interpreting the results` :-**"
   ]
  },
  {
   "cell_type": "markdown",
   "metadata": {},
   "source": [
    "- **Chi-square statistic**: This value indicates the strength of the association between the variables. Higher values suggest a stronger association. In this case, the chi-square statistic is the calculated value based on the given data."
   ]
  },
  {
   "cell_type": "markdown",
   "metadata": {},
   "source": [
    "- **P-value**: This value represents the probability of observing a chi-square statistic as extreme as the one calculated, assuming that there is no association between the variables (null hypothesis). A small p-value (typically ≤ 0.05) suggests that the observed association is unlikely to have occurred by chance."
   ]
  },
  {
   "cell_type": "markdown",
   "metadata": {},
   "source": [
    "- **Degrees of Freedom**: The degrees of freedom in a chi-square test for a contingency table is calculated as `(number of rows - 1) * (number of columns - 1)`. In this case, with a 3x2 table, the degrees of freedom will be 2."
   ]
  },
  {
   "cell_type": "markdown",
   "metadata": {},
   "source": [
    "- **Expected Frequencies**: These are the values that would be expected in each cell if there were no association between the variables. They are calculated under the assumption of independence."
   ]
  },
  {
   "cell_type": "markdown",
   "metadata": {},
   "source": [
    "--------------------------------------------------------------------------------------------------------------------"
   ]
  },
  {
   "cell_type": "markdown",
   "metadata": {},
   "source": [
    "Q.No-04    A study of the prevalence of smoking in a population of 500 individuals found that 60 individuals smoked. Use Python to calculate the 95% confidence interval for the true proportion of individuals in the population who smoke."
   ]
  },
  {
   "cell_type": "markdown",
   "metadata": {},
   "source": [
    "Ans :-"
   ]
  },
  {
   "cell_type": "markdown",
   "metadata": {},
   "source": [
    "To calculate the 95% confidence interval for the true proportion of individuals in the population who smoke, you can use the formula for the confidence interval of a proportion. The formula is:\n",
    "\n",
    "$$ \\text{Confidence Interval} = \\hat{p} \\pm Z \\times \\sqrt{\\frac{\\hat{p}(1 - \\hat{p})}{n}} $$\n",
    "\n",
    "Where:\n",
    "- $\\hat{p}$ is the sample proportion (proportion of individuals who smoke in the sample).\n",
    "- $Z$ is the Z-score corresponding to the desired confidence level. For a 95% confidence level, \\(Z \\approx 1.96\\).\n",
    "- $n$ is the sample size."
   ]
  },
  {
   "cell_type": "code",
   "execution_count": 4,
   "metadata": {},
   "outputs": [
    {
     "name": "stdout",
     "output_type": "stream",
     "text": [
      "Given :-\n",
      "\tThe sample proportion = 0.12\n",
      "\tConfidence Level = 0.95\n",
      "\tSample Size = 500\n",
      "\n",
      "Calculation :-\n",
      "\tSignificance level = 0.025000000000000022\n",
      "\tZ-score for 95% confidence level = 0.21\n",
      "\tMargin of error = 0.00\n",
      "\tConfidence Interval Lower = 0.12\n",
      "\tConfidence Interval Upper = 0.12\n",
      "\n",
      "Result :-\n",
      "\tConfidence Interval: [0.12 to 0.12]\n"
     ]
    }
   ],
   "source": [
    "import math\n",
    "\n",
    "print(\"Given :-\")\n",
    "sample_proportion = 60 / 500\n",
    "print(f\"\\tThe sample proportion = {sample_proportion}\")\n",
    "confidence_level = 0.95\n",
    "print(f\"\\tConfidence Level = {confidence_level}\")\n",
    "sample_size = 500\n",
    "print(f\"\\tSample Size = {sample_size}\")\n",
    "\n",
    "print(\"\\nCalculation :-\")\n",
    "alpha = (1 - confidence_level)/2\n",
    "print(f\"\\tSignificance level = {alpha}\")\n",
    "z_score = (1 - confidence_level)/(2 * sample_proportion)\n",
    "print(f\"\\tZ-score for 95% confidence level = {z_score:.2f}\")\n",
    "margin_of_error = z_score * math.sqrt((sample_proportion * (1 - sample_proportion)) / sample_size)\n",
    "print(f\"\\tMargin of error = {margin_of_error:.2f}\")\n",
    "confidence_interval_lower = sample_proportion - margin_of_error\n",
    "print(f\"\\tConfidence Interval Lower = {confidence_interval_lower:.2f}\")\n",
    "confidence_interval_upper = sample_proportion + margin_of_error\n",
    "print(f\"\\tConfidence Interval Upper = {confidence_interval_upper:.2f}\")\n",
    "\n",
    "print(\"\\nResult :-\")\n",
    "print(f\"\\tConfidence Interval: [{confidence_interval_lower:.2f} to {confidence_interval_upper:.2f}]\")"
   ]
  },
  {
   "cell_type": "markdown",
   "metadata": {},
   "source": [
    "-------------------------------------------------------------------------------------------------------------------------------------------------"
   ]
  },
  {
   "cell_type": "markdown",
   "metadata": {},
   "source": [
    "Q.No-05    Calculate the 90% confidence interval for a sample of data with a mean of 75 and a standard deviation of 12 using Python. Interpret the results."
   ]
  },
  {
   "cell_type": "markdown",
   "metadata": {},
   "source": [
    "Ans :-"
   ]
  },
  {
   "cell_type": "code",
   "execution_count": 5,
   "metadata": {},
   "outputs": [
    {
     "name": "stdout",
     "output_type": "stream",
     "text": [
      "Given :-\n",
      "\tMean = 75\n",
      "\tStandard Deviation = 12\n",
      "\tConfidence Level = 0.9\n",
      "\n",
      "Input :-\n",
      "\tSample Size = 25\n",
      "\n",
      "Calculation :-\n",
      "\t90% Confidence Interval:\n",
      "\t\tLower Bound = 71.05\n",
      "\t\tUpper Bound = 78.95\n",
      "\n",
      "Result :-\n",
      "\tConfidence Interval : 71.05 to 78.95 \n"
     ]
    }
   ],
   "source": [
    "import scipy.stats as stats\n",
    "\n",
    "print(\"Given :-\")\n",
    "mean = 75\n",
    "print(f\"\\tMean = {mean}\")\n",
    "std_dev = 12\n",
    "print(f\"\\tStandard Deviation = {std_dev}\")\n",
    "confidence_level = 0.90\n",
    "print(f\"\\tConfidence Level = {confidence_level}\")\n",
    "\n",
    "\n",
    "print(\"\\nInput :-\")\n",
    "sample_size = int(input(\"Enter the Sample Size\"))\n",
    "print(f\"\\tSample Size = {sample_size}\")\n",
    "\n",
    "print(\"\\nCalculation :-\")\n",
    "# Calculate the standard error\n",
    "std_error = std_dev / (sample_size ** 0.5)\n",
    "\n",
    "# Calculate the margin of error\n",
    "margin_of_error = stats.norm.ppf(1 - (1 - confidence_level) / 2) * std_error\n",
    "\n",
    "# Calculate the confidence interval\n",
    "lower_bound = mean - margin_of_error\n",
    "upper_bound = mean + margin_of_error\n",
    "\n",
    "print(\"\\t90% Confidence Interval:\")\n",
    "print(f\"\\t\\tLower Bound = {lower_bound:.2f}\")\n",
    "print(f\"\\t\\tUpper Bound = {upper_bound:.2f}\")\n",
    "\n",
    "\n",
    "print(\"\\nResult :-\")\n",
    "print(f\"\\tConfidence Interval : {lower_bound:.2f} to {upper_bound:.2f} \")\n"
   ]
  },
  {
   "cell_type": "markdown",
   "metadata": {},
   "source": [
    "**`Interpretation of the results` :-**"
   ]
  },
  {
   "cell_type": "markdown",
   "metadata": {},
   "source": [
    "The calculated confidence interval represents a range within which we can be 90% confident that the true population mean lies, based on the given sample. In other words, if we were to take multiple samples and calculate 90% confidence intervals for each, about 90% of those intervals would contain the true population mean.\n",
    "\n",
    "For instance, if the calculated confidence interval is [71.05, 78.95], it means that we can be 90% confident that the true population mean lies between 71.05 and 78.95 based on the provided sample data. This range takes into account the variability of sample means and provides a measure of uncertainty around our estimate of the population mean."
   ]
  },
  {
   "cell_type": "markdown",
   "metadata": {},
   "source": [
    "-------------------------------------------------------------------------------------------------------------------------------------------------"
   ]
  },
  {
   "cell_type": "markdown",
   "metadata": {},
   "source": [
    "Q.No-06    Use Python to plot the chi-square distribution with 10 degrees of freedom. Label the axes and shade the area corresponding to a chi-square statistic of 15."
   ]
  },
  {
   "cell_type": "markdown",
   "metadata": {},
   "source": [
    "Ans :-"
   ]
  },
  {
   "cell_type": "code",
   "execution_count": 6,
   "metadata": {},
   "outputs": [
    {
     "data": {
      "image/png": "[encoded data removed]",
      "text/plain": [
       "<Figure size 1000x600 with 1 Axes>"
      ]
     },
     "metadata": {},
     "output_type": "display_data"
    }
   ],
   "source": [
    "import numpy as np\n",
    "import matplotlib.pyplot as plt\n",
    "import scipy.stats as stats\n",
    "\n",
    "# Define the degrees of freedom\n",
    "df = 10\n",
    "\n",
    "# Create a range of x values\n",
    "x = np.linspace(0, 30, 400)\n",
    "\n",
    "# Calculate the chi-square distribution values for the given degrees of freedom\n",
    "chi2_values = stats.chi2.pdf(x, df)\n",
    "\n",
    "# Create the plot\n",
    "plt.figure(figsize=(10, 6))\n",
    "plt.plot(x, chi2_values, label=f'Chi-Square with {df} Degrees of Freedom')\n",
    "plt.fill_between(x, chi2_values, where=(x >= 0) & (x <= 15), color='skyblue', alpha=0.5, label='Area for Chi-Square > 15')\n",
    "plt.xlabel('Chi-Square Value')\n",
    "plt.ylabel('Probability Density')\n",
    "plt.title(f'Chi-Square Distribution with {df} Degrees of Freedom')\n",
    "plt.legend()\n",
    "plt.grid(True)\n",
    "plt.show()"
   ]
  },
  {
   "cell_type": "markdown",
   "metadata": {},
   "source": [
    "-------------------------------------------------------------------------------------------------------------------------------------------------"
   ]
  },
  {
   "cell_type": "markdown",
   "metadata": {},
   "source": [
    "Q.No-07    A random sample of 1000 people was asked if they preferred Coke or Pepsi. Of the sample, 520 preferred Coke. Calculate a 99% confidence interval for the true proportion of people in the population who prefer Coke."
   ]
  },
  {
   "cell_type": "markdown",
   "metadata": {},
   "source": [
    "Ans :-"
   ]
  },
  {
   "cell_type": "markdown",
   "metadata": {},
   "source": [
    "**To calculate `the confidence interval for a proportion`, We can use the `formula` :-**"
   ]
  },
  {
   "cell_type": "markdown",
   "metadata": {},
   "source": [
    "$$ \\text{Confidence Interval} = \\hat{p} \\pm Z \\times \\sqrt{\\frac{\\hat{p}(1 - \\hat{p})}{n}} $$"
   ]
  },
  {
   "cell_type": "markdown",
   "metadata": {},
   "source": [
    "**Where :-**"
   ]
  },
  {
   "cell_type": "markdown",
   "metadata": {},
   "source": [
    "- $\\hat{p}$ is the sample proportion (520/1000 in this case, which is 0.52).\n",
    "- $Z$ is the critical value from the standard normal distribution corresponding to the desired confidence level. For a 99% confidence level, $Z$ is approximately 2.576.\n",
    "- $n$ is the sample size (1000 in this case)."
   ]
  },
  {
   "cell_type": "markdown",
   "metadata": {},
   "source": [
    "**Put the values in the formula :-**"
   ]
  },
  {
   "cell_type": "markdown",
   "metadata": {},
   "source": [
    "$$ \\text{Confidence Interval} = 0.52 \\pm 2.576 \\times \\sqrt{\\frac{0.52 \\times 0.48}{1000}} $$"
   ]
  },
  {
   "cell_type": "markdown",
   "metadata": {},
   "source": [
    "**Calculating `the standard error` :-**"
   ]
  },
  {
   "cell_type": "markdown",
   "metadata": {},
   "source": [
    "$$ \\text{Standard Error} = \\sqrt{\\frac{0.52 \\times 0.48}{1000}} = 0.0157987341265052 $$"
   ]
  },
  {
   "cell_type": "markdown",
   "metadata": {},
   "source": [
    "**Calculating `the margin of error` :-**"
   ]
  },
  {
   "cell_type": "markdown",
   "metadata": {},
   "source": [
    "$$ \\text{Margin of Error} = 2.576 \\times 0.0158 = 0.040694842322030134 $$"
   ]
  },
  {
   "cell_type": "markdown",
   "metadata": {},
   "source": [
    "**Calculating `the confidence interval` :-**"
   ]
  },
  {
   "cell_type": "markdown",
   "metadata": {},
   "source": [
    "$$ \\text{Confidence Interval} = 0.52 \\pm 0.040694842322030134 $$"
   ]
  },
  {
   "cell_type": "markdown",
   "metadata": {},
   "source": [
    "**Calculating `the Confidence Interval Lower Bound` :-**"
   ]
  },
  {
   "cell_type": "markdown",
   "metadata": {},
   "source": [
    "$$ \\text{Confidence Interval Lower Bound} = 0.52 - 0.040694842322030134 $$\n",
    "\n",
    "$$ \\text{Confidence Interval Lower Bound} = 0.4793051576779699 $$"
   ]
  },
  {
   "cell_type": "markdown",
   "metadata": {},
   "source": [
    "**Calculating `the Confidence Interval Upper Bound` :-**"
   ]
  },
  {
   "cell_type": "markdown",
   "metadata": {},
   "source": [
    "$$ \\text{Confidence Interval Lower Bound} = 0.52 + 0.040694842322030134 $$\n",
    "\n",
    "$$ \\text{Confidence Interval Lower Bound} = 0.5606948423220302 $$"
   ]
  },
  {
   "cell_type": "code",
   "execution_count": 7,
   "metadata": {},
   "outputs": [
    {
     "name": "stdout",
     "output_type": "stream",
     "text": [
      "Given :-\n",
      "\tTotal No. of Population (Sample Size) = 1000\n",
      "\tNo. Of People Who Preferred Coke = 520\n",
      "\tSample Proportion = 0.52\n",
      "\tConfidence Level = 0.99 or 99.0%\n",
      "\n",
      "Calculation:-\n",
      "\tStandard Error = 0.02\n",
      "\tZ Critical Value = 2.58\n",
      "\tMargin Of Error = 0.04\n",
      "\tConfidence Interval Lower = 0.4793\n",
      "\tConfidence Interval Upper = 0.5607\n",
      "\n",
      "Result:-\n",
      "\tConfidence Interval = 0.4793, 0.5607\n"
     ]
    }
   ],
   "source": [
    "import scipy.stats as stats\n",
    "import math\n",
    "\n",
    "# Given values\n",
    "print(\"Given :-\")\n",
    "\n",
    "sample_size = 1000\n",
    "print(f\"\\tTotal No. of Population (Sample Size) = {sample_size}\")\n",
    "\n",
    "# No. of People Who preferred Coke\n",
    "no_of_people_who_preferred_coke = 520\n",
    "print(f\"\\tNo. Of People Who Preferred Coke = {no_of_people_who_preferred_coke}\")\n",
    "\n",
    "sample_proportion = no_of_people_who_preferred_coke / sample_size\n",
    "print(f\"\\tSample Proportion = {sample_proportion}\")\n",
    "\n",
    "confidence_level = 0.99\n",
    "print(f\"\\tConfidence Level = {confidence_level} or {confidence_level*100}%\")\n",
    "\n",
    "\n",
    "print(\"\\nCalculation:-\")\n",
    "\n",
    "# Calculate the standard error\n",
    "standard_error = math.sqrt((sample_proportion * (1 - sample_proportion)) / sample_size)\n",
    "print(f\"\\tStandard Error = {standard_error:.2f}\")\n",
    "\n",
    "# Find the critical value for the given confidence level\n",
    "z_critical = stats.norm.ppf((1 + confidence_level) / 2)\n",
    "print(f\"\\tZ Critical Value = {z_critical:.2f}\")\n",
    "\n",
    "# Calculate the margin of error\n",
    "margin_of_error = z_critical * standard_error\n",
    "print(f\"\\tMargin Of Error = {margin_of_error:.2f}\")\n",
    "\n",
    "# Calculate the confidence interval\n",
    "confidence_interval_lower = sample_proportion - margin_of_error\n",
    "print(f\"\\tConfidence Interval Lower = {confidence_interval_lower:.4f}\")\n",
    "\n",
    "confidence_interval_upper = sample_proportion + margin_of_error\n",
    "print(f\"\\tConfidence Interval Upper = {confidence_interval_upper:.4f}\")\n",
    "\n",
    "\n",
    "print(\"\\nResult:-\")\n",
    "\n",
    "print(f\"\\tConfidence Interval = {confidence_interval_lower:.4f}, {confidence_interval_upper:.4f}\")"
   ]
  },
  {
   "cell_type": "markdown",
   "metadata": {},
   "source": [
    "So, \n",
    "\n",
    "The 99% confidence interval for **`the true proportion of people in the population who prefer Coke is approximately` $0.4793$ `to` $0.5607$**, \n",
    "\n",
    "or $47.93\\%$ to $56.07\\%$."
   ]
  },
  {
   "cell_type": "markdown",
   "metadata": {},
   "source": [
    "--------------------------------------------------------------------------------------------------------------------"
   ]
  },
  {
   "cell_type": "markdown",
   "metadata": {},
   "source": [
    "Q.No-08    A researcher hypothesizes that a coin is biased towards tails. They flip the coin 100 times and observe 45 tails. Conduct a chi-square goodness of fit test to determine if the observed frequencies match the expected frequencies of a fair coin. Use a significance level of 0.05."
   ]
  },
  {
   "cell_type": "markdown",
   "metadata": {},
   "source": [
    "Ans :-"
   ]
  },
  {
   "cell_type": "markdown",
   "metadata": {},
   "source": [
    "To conduct a chi-square goodness of fit test, we need to compare the observed frequencies with the expected frequencies under the assumption that the coin is fair (i.e., not biased). The null hypothesis, in this case, would be that the coin is fair, and the alternative hypothesis would be that the coin is biased towards tails."
   ]
  },
  {
   "cell_type": "markdown",
   "metadata": {},
   "source": [
    "Here's how to perform the chi-square goodness of fit test:"
   ]
  },
  {
   "cell_type": "markdown",
   "metadata": {},
   "source": [
    "1. **Formulate Hypotheses:**\n",
    "\n",
    "   - Null Hypothesis (H0): The coin is fair (not biased towards tails).\n",
    "   - Alternative Hypothesis (H1): The coin is biased towards tails."
   ]
  },
  {
   "cell_type": "markdown",
   "metadata": {},
   "source": [
    "2. **Calculate Expected Frequencies:**\n",
    "\n",
    "   If the coin is fair, we expect an equal number of heads and tails in 100 flips (i.e., 50 each). Therefore, the expected frequency for tails is 50 and for heads is 50."
   ]
  },
  {
   "cell_type": "markdown",
   "metadata": {},
   "source": [
    "3. **Calculate `Chi-Square Statistic`:**\n",
    "\n",
    "   The chi-square statistic is calculated using the formula:\n",
    "\n",
    "   $$ chi-square = Σ((O - E)^2 / E) $$ \n",
    "\n",
    "   where O is the observed frequency and E is the expected frequency.\n",
    "\n",
    "   For tails (observed = 45, expected = 50):\n",
    "\n",
    "   $$ ((45 - 50)^2 / 50) = 0.5 $$\n",
    "\n",
    "   For heads (observed = 100 - 45 = 55, expected = 50):\n",
    "\n",
    "   $$ ((55 - 50)^2 / 50) = 0.5 $$\n",
    "\n",
    "   $$ Total\\ chi-square = 0.5 + 0.5 = 1.0 $$"
   ]
  },
  {
   "cell_type": "markdown",
   "metadata": {},
   "source": [
    "4. **Degrees of Freedom:**\n",
    "\n",
    "   Degrees of freedom (df) in a chi-square goodness of fit test is calculated as (number of categories - 1). In this case, there are 2 categories (heads and tails), so df = 2 - 1 = 1."
   ]
  },
  {
   "cell_type": "markdown",
   "metadata": {},
   "source": [
    "5. **Critical Value:**\n",
    "\n",
    "   Using a significance level of 0.05 and df = 1, we can find the critical value from a chi-square distribution table or calculator. The critical value for a chi-square distribution with 1 degree of freedom at a 0.05 significance level is approximately 3.841."
   ]
  },
  {
   "cell_type": "markdown",
   "metadata": {},
   "source": [
    "6. **Compare Statistic and Critical Value:**\n",
    "\n",
    "   The calculated chi-square statistic (1.0) is less than the critical value (3.841)."
   ]
  },
  {
   "cell_type": "markdown",
   "metadata": {},
   "source": [
    "7. **Conclusion:**\n",
    "\n",
    "   Since the calculated chi-square statistic is less than the critical value, we fail to reject the null hypothesis. This means that we do not have enough evidence to conclude that the coin is biased towards tails. The observed frequencies of heads and tails do not significantly differ from the expected frequencies of a fair coin."
   ]
  },
  {
   "cell_type": "markdown",
   "metadata": {},
   "source": [
    "**`In Python` -**"
   ]
  },
  {
   "cell_type": "code",
   "execution_count": 8,
   "metadata": {},
   "outputs": [
    {
     "name": "stdout",
     "output_type": "stream",
     "text": [
      "Given :-\n",
      "\tObserved Distribution for Tail = 45\n",
      "\tNumbers of Flip : 100\n",
      "\tSignificance level = 0.05)\n",
      "\n",
      "According To Question :-\n",
      "\tExpected Frequency in Heads : 50\n",
      "\tExpected Frequency in Heads : 50\n",
      "\n",
      "Calculation :-\n",
      "\tObserved Distribution for Head = 55\n",
      "\tObserved Frequencies = [45 55]\n",
      "\tExpected Frequencies = [50 50]\n",
      "\tChi-square statistic = 1.0\n",
      "\tP-value = 0.32\n",
      "\tDegrees of freedom = 1\n",
      "\tCritical value = 3.84\n",
      "\n",
      "Conclusion :-\n",
      "\tFail to reject the null hypothesis. The coin is not biased.\n"
     ]
    }
   ],
   "source": [
    "import numpy as np\n",
    "from scipy.stats import chisquare, chi2\n",
    "print(\"Given :-\")\n",
    "Observed_Frequency_for_Tail = 45\n",
    "print(f\"\\tObserved Distribution for Tail = {Observed_Frequency_for_Tail}\")\n",
    "Numbers_of_Flip = 100\n",
    "print(f\"\\tNumbers of Flip : {Numbers_of_Flip}\")\n",
    "\n",
    "# Significance level\n",
    "alpha = 0.05\n",
    "print(f\"\\tSignificance level = {alpha})\")\n",
    "\n",
    "print(\"\\nAccording To Question :-\")\n",
    "\n",
    "Expected_Frequency_in_Tail = 50\n",
    "print(f\"\\tExpected Frequency in Heads : {Expected_Frequency_in_Tail}\")\n",
    "\n",
    "Expected_Frequency_in_Heads = 50\n",
    "print(f\"\\tExpected Frequency in Heads : {Expected_Frequency_in_Heads}\")\n",
    "\n",
    "\n",
    "print(\"\\nCalculation :-\")\n",
    "      \n",
    "Observed_Frequency_for_Head = Numbers_of_Flip - Observed_Frequency_for_Tail\n",
    "print(f\"\\tObserved Distribution for Head = {Observed_Frequency_for_Head}\")\n",
    "\n",
    "# Observed frequencies\n",
    "observed_frequencies = np.array([Observed_Frequency_for_Tail, Observed_Frequency_for_Head])  # Tails, Heads\n",
    "print(f\"\\tObserved Frequencies = {observed_frequencies}\")\n",
    "\n",
    "# Expected frequencies under null hypothesis (fair coin)\n",
    "expected_frequencies = np.array([Expected_Frequency_in_Tail, Expected_Frequency_in_Heads])  # Tails, Heads\n",
    "print(f\"\\tExpected Frequencies = {expected_frequencies}\")\n",
    "\n",
    "# Perform chi-square goodness of fit test\n",
    "chi2_statistic, p_value = chisquare(observed_frequencies, f_exp=expected_frequencies)\n",
    "print(f\"\\tChi-square statistic = {chi2_statistic}\")\n",
    "print(f\"\\tP-value = {p_value:.2f}\")\n",
    "\n",
    "# Degrees of freedom\n",
    "df = len(observed_frequencies) - 1\n",
    "print(f\"\\tDegrees of freedom = {df}\")\n",
    "\n",
    "# Critical value from chi-square distribution\n",
    "critical_value = chi2.ppf(1 - alpha, df)\n",
    "print(f\"\\tCritical value = {critical_value:.2f}\")\n",
    "\n",
    "print(\"\\nConclusion :-\")\n",
    "# Compare chi-square statistic with critical value\n",
    "if chi2_statistic < critical_value:\n",
    "    print(\"\\tFail to reject the null hypothesis. The coin is not biased.\")\n",
    "else:\n",
    "    print(\"\\tReject the null hypothesis. The coin is biased.\")\n"
   ]
  },
  {
   "cell_type": "markdown",
   "metadata": {},
   "source": [
    "-------------------------------------------------------------------------------------------------------------------------------------------------"
   ]
  },
  {
   "cell_type": "markdown",
   "metadata": {},
   "source": [
    "Q.No-09    A study was conducted to determine if there is an association between smoking status (smoker or non-smoker) and lung cancer diagnosis (yes or no). The results are shown in the contingency table below. Conduct a chi-square test for independence to determine if there is a significant association between smoking status and lung cancer diagnosis.\n",
    "```\n",
    "                Lung Cancer: Yes  Lung Cancer: No\n",
    "Smoker               60                140\n",
    "Non-smoker           30                170\n",
    "```\n",
    "Use a significance level of 0.05."
   ]
  },
  {
   "cell_type": "markdown",
   "metadata": {},
   "source": [
    "Ans :-"
   ]
  },
  {
   "cell_type": "code",
   "execution_count": 19,
   "metadata": {},
   "outputs": [
    {
     "name": "stdout",
     "output_type": "stream",
     "text": [
      "Given :-\n",
      "\tDataFrame Table (Pandas DataFrame) :\n"
     ]
    },
    {
     "data": {
      "text/html": [
       "<div>\n",
       "<style scoped>\n",
       "    .dataframe tbody tr th:only-of-type {\n",
       "        vertical-align: middle;\n",
       "    }\n",
       "\n",
       "    .dataframe tbody tr th {\n",
       "        vertical-align: top;\n",
       "    }\n",
       "\n",
       "    .dataframe thead th {\n",
       "        text-align: right;\n",
       "    }\n",
       "</style>\n",
       "<table border=\"1\" class=\"dataframe\">\n",
       "  <thead>\n",
       "    <tr style=\"text-align: right;\">\n",
       "      <th></th>\n",
       "      <th>Lung Cancer: Yes</th>\n",
       "      <th>Lung Cancer: No</th>\n",
       "    </tr>\n",
       "  </thead>\n",
       "  <tbody>\n",
       "    <tr>\n",
       "      <th>Smoker</th>\n",
       "      <td>60</td>\n",
       "      <td>30</td>\n",
       "    </tr>\n",
       "    <tr>\n",
       "      <th>Non-Smoker</th>\n",
       "      <td>140</td>\n",
       "      <td>170</td>\n",
       "    </tr>\n",
       "  </tbody>\n",
       "</table>\n",
       "</div>"
      ],
      "text/plain": [
       "               Lung Cancer: Yes    Lung Cancer: No \n",
       " Smoker                       60                 30\n",
       " Non-Smoker                  140                170"
      ]
     },
     "metadata": {},
     "output_type": "display_data"
    },
    {
     "name": "stdout",
     "output_type": "stream",
     "text": [
      "\tDataFrame Table (Numpy Array) :\n"
     ]
    },
    {
     "data": {
      "text/plain": [
       "array([[ 60, 140],\n",
       "       [ 30, 170]])"
      ]
     },
     "metadata": {},
     "output_type": "display_data"
    },
    {
     "name": "stdout",
     "output_type": "stream",
     "text": [
      "\tSignificance Level = 0.05\n",
      "\n",
      "Calculation :-\n",
      "\tChi-square value = 12.057347670250895\n",
      "\tp-value = 0.0005158863863703744\n",
      "\tDegrees of freedom = 1\n",
      "\n",
      "\tExpected frequencies : \n"
     ]
    },
    {
     "data": {
      "text/plain": [
       "array([[ 45., 155.],\n",
       "       [ 45., 155.]])"
      ]
     },
     "metadata": {},
     "output_type": "display_data"
    },
    {
     "name": "stdout",
     "output_type": "stream",
     "text": [
      "Conclusion :-\n",
      "\tThere is a significant association between smoking status and lung cancer diagnosis.\n"
     ]
    }
   ],
   "source": [
    "import numpy as np\n",
    "import pandas as pd \n",
    "from scipy.stats import chi2_contingency\n",
    "\n",
    "print(\"Given :-\")\n",
    "print(\"\\tDataFrame Table (Pandas DataFrame) :\")\n",
    "# Create a pandas DataFrame\n",
    "data_Q9 = {' Lung Cancer: Yes ': [60, 140],\n",
    "        ' Lung Cancer: No ': [30, 170]}\n",
    "\n",
    "df_Q9 = pd.DataFrame(data_Q9, index=[' Smoker ', ' Non-Smoker '])\n",
    "display(df_Q9)\n",
    "\n",
    "print(\"\\tDataFrame Table (Numpy Array) :\")\n",
    "# Create the contingency table\n",
    "contingency_table_Q9 = np.array([[60, 140],\n",
    "                     [30, 170]])\n",
    "display(contingency_table_Q9)\n",
    "\n",
    "alpha = 0.05\n",
    "print(f\"\\tSignificance Level = {alpha}\")\n",
    "\n",
    "print(\"\\nCalculation :-\")\n",
    "\n",
    "# Perform the chi-square test for independence\n",
    "chi2, p, dof, expected = chi2_contingency(contingency_table_Q9)\n",
    "\n",
    "print(f\"\\tChi-square value = {chi2}\")\n",
    "print(f\"\\tp-value = {p}\")\n",
    "print(f\"\\tDegrees of freedom = {dof}\")\n",
    "print(f\"\\n\\tExpected frequencies : \")\n",
    "display(expected)\n",
    "\n",
    "print(\"Conclusion :-\")\n",
    "# Check if the p-value is less than the significance level\n",
    "if p < alpha:\n",
    "    print(\"\\tThere is a significant association between smoking status and lung cancer diagnosis.\")\n",
    "else:\n",
    "    print(\"\\tThere is no significant association between smoking status and lung cancer diagnosis.\")\n"
   ]
  },
  {
   "cell_type": "markdown",
   "metadata": {},
   "source": [
    "-------------------------------------------------------------------------------------------------------------------------------------------------"
   ]
  },
  {
   "cell_type": "markdown",
   "metadata": {},
   "source": [
    "Q.No-10    A study was conducted to determine if the proportion of people who prefer milk chocolate, dark chocolate, or white chocolate is different in the U.S. versus the U.K. A random sample of 500 people from the U.S. and a random sample of 500 people from the U.K. were surveyed. The results are shown in the contingency table below. Conduct a chi-square test for independence to determine if there is a significant association between chocolate preference and country of origin.\n",
    "```\n",
    "                Milk Chocolate  Dark Chocolate  White Chocolate\n",
    "U.S. (n=500)         200             150              150\n",
    "U.K. (n=500)         225             175              100\n",
    "```\n",
    "Use a significance level of 0.01."
   ]
  },
  {
   "cell_type": "markdown",
   "metadata": {},
   "source": [
    "Ans :-"
   ]
  },
  {
   "cell_type": "code",
   "execution_count": 21,
   "metadata": {},
   "outputs": [
    {
     "name": "stdout",
     "output_type": "stream",
     "text": [
      "Given :-\n",
      "\tDataFrame Table (Pandas DataFrame) :\n"
     ]
    },
    {
     "data": {
      "text/html": [
       "<div>\n",
       "<style scoped>\n",
       "    .dataframe tbody tr th:only-of-type {\n",
       "        vertical-align: middle;\n",
       "    }\n",
       "\n",
       "    .dataframe tbody tr th {\n",
       "        vertical-align: top;\n",
       "    }\n",
       "\n",
       "    .dataframe thead th {\n",
       "        text-align: right;\n",
       "    }\n",
       "</style>\n",
       "<table border=\"1\" class=\"dataframe\">\n",
       "  <thead>\n",
       "    <tr style=\"text-align: right;\">\n",
       "      <th></th>\n",
       "      <th>Milk Chocolate</th>\n",
       "      <th>Dark Chocolate</th>\n",
       "      <th>White Chocolate</th>\n",
       "    </tr>\n",
       "  </thead>\n",
       "  <tbody>\n",
       "    <tr>\n",
       "      <th>U.S. (n=500)</th>\n",
       "      <td>200</td>\n",
       "      <td>150</td>\n",
       "      <td>150</td>\n",
       "    </tr>\n",
       "    <tr>\n",
       "      <th>U.S. (n=500)</th>\n",
       "      <td>225</td>\n",
       "      <td>175</td>\n",
       "      <td>100</td>\n",
       "    </tr>\n",
       "  </tbody>\n",
       "</table>\n",
       "</div>"
      ],
      "text/plain": [
       "                 Milk Chocolate    Dark Chocolate    White Chocolate \n",
       " U.S. (n=500)                200               150                150\n",
       " U.S. (n=500)                225               175                100"
      ]
     },
     "metadata": {},
     "output_type": "display_data"
    },
    {
     "name": "stdout",
     "output_type": "stream",
     "text": [
      "\tDataFrame Table (Numpy Array) :\n"
     ]
    },
    {
     "data": {
      "text/plain": [
       "array([[200, 150, 150],\n",
       "       [225, 175, 100]])"
      ]
     },
     "metadata": {},
     "output_type": "display_data"
    },
    {
     "name": "stdout",
     "output_type": "stream",
     "text": [
      "\tSignificance Level = 0.01\n",
      "\n",
      "Calculation :-\n",
      "\tChi-square statistic: 13.393665158371041\n",
      "\tP-value: 0.0012348168997745915\n",
      "\tDegrees of Freedom: 2\n",
      "\n",
      "\tExpected Contingency Table:\n"
     ]
    },
    {
     "data": {
      "text/plain": [
       "array([[212.5, 162.5, 125. ],\n",
       "       [212.5, 162.5, 125. ]])"
      ]
     },
     "metadata": {},
     "output_type": "display_data"
    },
    {
     "name": "stdout",
     "output_type": "stream",
     "text": [
      "Conclusion :-\n",
      "\tReject the null hypothesis: There is a significant association between chocolate preference and country of origin.\n"
     ]
    }
   ],
   "source": [
    "import numpy as np\n",
    "import pandas as pd\n",
    "from scipy.stats import chi2_contingency\n",
    "\n",
    "print(\"Given :-\")\n",
    "print(\"\\tDataFrame Table (Pandas DataFrame) :\")\n",
    "# Create a pandas DataFrame\n",
    "data_Q10 = {' Milk Chocolate ': [200, 225],\n",
    "        ' Dark Chocolate ': [150, 175],\n",
    "        ' White Chocolate ':[150, 100]}\n",
    "\n",
    "df_Q10 = pd.DataFrame(data_Q10, index=[' U.S. (n=500) ', ' U.S. (n=500) '])\n",
    "display(df_Q10)\n",
    "\n",
    "print(\"\\tDataFrame Table (Numpy Array) :\")\n",
    "# Create the contingency table\n",
    "contingency_table_Q10 = np.array([[200, 150, 150],\n",
    "                     [225, 175, 100]])\n",
    "display(contingency_table_Q10)\n",
    "\n",
    "# Significance level\n",
    "alpha = 0.01\n",
    "print(f\"\\tSignificance Level = {alpha}\")\n",
    "\n",
    "\n",
    "print(\"\\nCalculation :-\")\n",
    "# Perform the chi-square test for independence\n",
    "chi2, p, dof, expected = chi2_contingency(contingency_table_Q10)\n",
    "print(\"\\tChi-square statistic:\", chi2)\n",
    "print(\"\\tP-value:\", p)\n",
    "print(\"\\tDegrees of Freedom:\", dof)\n",
    "print(\"\\n\\tExpected Contingency Table:\")\n",
    "display(expected)\n",
    "\n",
    "\n",
    "print(\"Conclusion :-\")\n",
    "if p < alpha:\n",
    "    print(\"\\tReject the null hypothesis: There is a significant association between chocolate preference and country of origin.\")\n",
    "else:\n",
    "    print(\"\\tFail to reject the null hypothesis: There is no significant association between chocolate preference and country of origin.\")\n"
   ]
  },
  {
   "cell_type": "markdown",
   "metadata": {},
   "source": [
    "Q.No-11    A random sample of 30 people was selected from a population with an unknown mean and standard deviation. The sample mean was found to be 72 and the sample standard deviation was found to be 10. Conduct a hypothesis test to determine if the population mean is significantly different from 70. Use a significance level of 0.05."
   ]
  },
  {
   "cell_type": "markdown",
   "metadata": {},
   "source": [
    "Ans :-"
   ]
  },
  {
   "cell_type": "code",
   "execution_count": 22,
   "metadata": {},
   "outputs": [
    {
     "name": "stdout",
     "output_type": "stream",
     "text": [
      "Given :-\n",
      "\tSample Mean = 72\n",
      "\tSample Standard Deviation = 10\n",
      "\tPopulation Mean Hypothesis = 70\n",
      "\tSample Size = 30\n",
      "\tSignificance Level = 0.05\n",
      "\n",
      "Calculation :-\n",
      "\tt-statistic: 1.0954451150103321\n",
      "\tDegrees of Freedom:  29\n",
      "\tCritical t-value: 2.045229642132703\n",
      "\tp-value: 0.2823362372860698\n",
      "\n",
      "Conclusion :-\n",
      "\tFail to reject the null hypothesis. There is no significant difference in the population mean.\n"
     ]
    }
   ],
   "source": [
    "import scipy.stats as stats\n",
    "\n",
    "# Given values\n",
    "print(\"Given :-\")\n",
    "sample_mean = 72\n",
    "print(f\"\\tSample Mean = {sample_mean}\")\n",
    "sample_std_dev = 10\n",
    "print(f\"\\tSample Standard Deviation = {sample_std_dev}\")\n",
    "population_mean_hypothesis = 70\n",
    "print(f\"\\tPopulation Mean Hypothesis = {population_mean_hypothesis}\")\n",
    "sample_size = 30\n",
    "print(f\"\\tSample Size = {sample_size}\")\n",
    "significance_level = 0.05\n",
    "print(f\"\\tSignificance Level = {significance_level}\")\n",
    "\n",
    "print(\"\\nCalculation :-\")\n",
    "# Calculate the t-statistic\n",
    "t_statistic = (sample_mean - population_mean_hypothesis) / (sample_std_dev / (sample_size ** 0.5))\n",
    "print(\"\\tt-statistic:\", t_statistic)\n",
    "# Degrees of freedom\n",
    "degrees_of_freedom = sample_size - 1\n",
    "print(\"\\tDegrees of Freedom: \", degrees_of_freedom)\n",
    "# Calculate the critical t-value for a two-tailed test\n",
    "critical_t_value = stats.t.ppf(1 - significance_level / 2, degrees_of_freedom)\n",
    "print(\"\\tCritical t-value:\", critical_t_value)\n",
    "# Calculate the p-value\n",
    "p_value = 2 * (1 - stats.t.cdf(abs(t_statistic), degrees_of_freedom))\n",
    "print(\"\\tp-value:\", p_value)\n",
    "\n",
    "\n",
    "print(\"\\nConclusion :-\")\n",
    "# Perform the hypothesis test\n",
    "if abs(t_statistic) > critical_t_value or p_value < significance_level:\n",
    "    print(\"\\tReject the null hypothesis. The population mean is significantly different from 70.\")\n",
    "else:\n",
    "    print(\"\\tFail to reject the null hypothesis. There is no significant difference in the population mean.\")"
   ]
  },
  {
   "cell_type": "markdown",
   "metadata": {},
   "source": [
    "                                        END"
   ]
  }
 ],
 "metadata": {
  "kernelspec": {
   "display_name": "Python 3",
   "language": "python",
   "name": "python3"
  },
  "language_info": {
   "codemirror_mode": {
    "name": "ipython",
    "version": 3
   },
   "file_extension": ".py",
   "mimetype": "text/x-python",
   "name": "python",
   "nbconvert_exporter": "python",
   "pygments_lexer": "ipython3",
   "version": "3.9.13"
  },
  "orig_nbformat": 4
 },
 "nbformat": 4,
 "nbformat_minor": 2
}
